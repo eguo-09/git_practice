{
  "nbformat": 4,
  "nbformat_minor": 0,
  "metadata": {
    "colab": {
      "provenance": [],
      "toc_visible": true,
      "include_colab_link": true
    },
    "kernelspec": {
      "name": "python3",
      "display_name": "Python 3"
    },
    "language_info": {
      "name": "python"
    }
  },
  "cells": [
    {
      "cell_type": "markdown",
      "metadata": {
        "id": "view-in-github",
        "colab_type": "text"
      },
      "source": [
        "<a href=\"https://colab.research.google.com/github/eguo-09/git_practice/blob/main/2_Demo.ipynb\" target=\"_parent\"><img src=\"https://colab.research.google.com/assets/colab-badge.svg\" alt=\"Open In Colab\"/></a>"
      ]
    },
    {
      "cell_type": "markdown",
      "source": [
        "# 2.1 Regular Expressions in Text Processing\n"
      ],
      "metadata": {
        "id": "bBmXow64ksLR"
      }
    },
    {
      "cell_type": "markdown",
      "source": [
        "\n",
        "---\n",
        "\n",
        "## Understanding Regular Expressions (Regex) in Python\n",
        "\n",
        "Regular expressions (regex) are powerful tools for matching patterns in text. In Python, the `re` module provides support for these expressions. Here's an overview of how regex is used in the provided script. Please do not memorize or try to remember all the regex rules. You can search the documentations for the specific rule.\n",
        "\n",
        "### Importing the `re` Module\n",
        "To use regex in Python, import the `re` module:\n",
        "\n",
        "```python\n",
        "import re\n",
        "```\n",
        "\n",
        "### Email Extraction\n",
        "**Regex Pattern:** `r'\\b[A-Za-z0-9._%+-]+@[A-Za-z0-9.-]+\\.[A-Z|a-z]{2,}\\b'`\n",
        "\n",
        "- `\\b` : Word boundary to ensure the pattern is isolated.\n",
        "- `[A-Za-z0-9._%+-]` : Matches any letter (both cases), digit, dot, underscore, percent, plus, or hyphen.\n",
        "- `@` : Matches the \"@\" symbol.\n",
        "- `[A-Za-z0-9.-]` : Matches any letter (both cases), digit, dot, or hyphen in the domain part.\n",
        "- `\\.` : Matches a dot.\n",
        "- `[A-Z|a-z]{2,}` : Matches at least two letters in the top-level domain (like .com, .org).\n",
        "- `\\b` : Word boundary to ensure the pattern is not part of a larger word.\n",
        "- `?` : Matches zero or one instance of the preceding character (to the left of it).\n",
        "- `+` : Matches one or more occurrences of the pattern to the left of it\n",
        "- `\\w`: Matches all alphanumeric characters, characters from a to Z, digits from 0-9, and the underscore _ character.\n",
        "- `\\W`: Matches all non-alphanumeric characters.\n",
        "```python\n",
        "email_regex = r'\\b[A-Za-z0-9._%+-]+@[A-Za-z0-9.-]+\\.[A-Z|a-z]{2,}\\b'\n",
        "emails = re.findall(email_regex, sample_text)\n",
        "```\n",
        "\n",
        "### Date Extraction and Standardization\n",
        "**Regex Pattern:** `r'(\\d{2})/(\\d{2})/(\\d{4})'`\n",
        "\n",
        "- `(\\d{2})` : Captures a group of exactly two digits, representing the month.\n",
        "- `(\\d{2})` : Captures a group of exactly two digits, representing the day.\n",
        "- `(\\d{4})` : Captures a group of exactly four digits, representing the year.\n",
        "\n",
        "The dates are then reformatted to the `YYYY-MM-DD` format.\n",
        "\n",
        "```python\n",
        "date_regex = r'(\\d{2})/(\\d{2})/(\\d{4})'\n",
        "dates = re.findall(date_regex, sample_text)\n",
        "standardized_dates = [f\"{year}-{month}-{day}\" for month, day, year in dates]\n",
        "```\n",
        "\n",
        "### Removing Non-Alphanumeric Characters\n",
        "**Regex Pattern:** `r'[^\\w\\s]'`\n",
        "\n",
        "- `[^\\w\\s]` : Matches any character that is not a word character (`\\w`) or whitespace (`\\s`).\n",
        "\n",
        "This pattern is used to remove special characters from the text, preserving letters, digits, and spaces.\n",
        "\n",
        "```python\n",
        "non_alpha_num_regex = r'[^\\w\\s]'\n",
        "cleaned_text = re.sub(non_alpha_num_regex, '', sample_text)\n",
        "```\n",
        "\n",
        "---\n",
        "\n",
        "These regex patterns are fundamental for text processing tasks such as data cleaning, information extraction, and text normalization in Python. Students can experiment with these patterns to understand how they can be adapted to various text processing scenarios."
      ],
      "metadata": {
        "id": "FZgSqLfJeHC_"
      }
    },
    {
      "cell_type": "markdown",
      "source": [
        "## 1. Validating Phone Numbers\n",
        "Regex Pattern: r'\\b\\d{3}[-.]?\\d{3}[-.]?\\d{4}\\b'\n",
        "\n",
        "Matches phone numbers in formats like 123-456-7890, 123.456.7890, or 1234567890."
      ],
      "metadata": {
        "id": "iHCtax4GfxoZ"
      }
    },
    {
      "cell_type": "code",
      "source": [
        "import re\n",
        "phone_regex = r'\\b\\d{3}[-.]?\\d{3}[-.]?\\d{4}\\b'\n",
        "phone_numbers = re.findall(phone_regex, \"Call me at 123-456-7890 or 123.456.7890. or 310.505.6688\")\n",
        "print(phone_numbers)"
      ],
      "metadata": {
        "colab": {
          "base_uri": "https://localhost:8080/"
        },
        "id": "uizdRbmFfpB4",
        "outputId": "40c299fc-4abe-47a9-a10b-2e9ed4d2c1ef"
      },
      "execution_count": null,
      "outputs": [
        {
          "output_type": "stream",
          "name": "stdout",
          "text": [
            "['123-456-7890', '123.456.7890', '310.505.6688']\n"
          ]
        }
      ]
    },
    {
      "cell_type": "markdown",
      "source": [
        "## 2. Finding Hashtags in a Tweet\n",
        "Regex Pattern: r'#\\w+'\n",
        "\n",
        "Matches hashtags, which start with # followed by word characters."
      ],
      "metadata": {
        "id": "tSUJVHe3f8aV"
      }
    },
    {
      "cell_type": "code",
      "source": [
        "hashtag_regex = r'#\\w+'\n",
        "hashtags = re.findall(hashtag_regex, \"Loving the #Python programming! #coding\")\n",
        "print(hashtags)"
      ],
      "metadata": {
        "colab": {
          "base_uri": "https://localhost:8080/"
        },
        "id": "GoTik2MbfpP-",
        "outputId": "3b110b46-8c38-434c-ae13-a5b6ef13dac5"
      },
      "execution_count": null,
      "outputs": [
        {
          "output_type": "stream",
          "name": "stdout",
          "text": [
            "['#Python', '#coding']\n"
          ]
        }
      ]
    },
    {
      "cell_type": "markdown",
      "source": [
        "## 3. Extracting IP Addresses\n",
        "Regex Pattern: r'\\b\\d{1,3}(\\.\\d{1,3}){3}\\b'\n",
        "\n",
        "Matches standard IPv4 addresses like 192.168.0.1."
      ],
      "metadata": {
        "id": "H3xh2ISEgJzi"
      }
    },
    {
      "cell_type": "code",
      "source": [
        "ip_regex = r'\\b\\d{1,3}(?:\\.\\d{1,3}){3}\\b'\n",
        "ip_addresses = re.findall(ip_regex, \"Ping 192.168.0.1 or 10.0.0.1 for access.\")\n",
        "print(ip_addresses)\n"
      ],
      "metadata": {
        "colab": {
          "base_uri": "https://localhost:8080/"
        },
        "id": "lbv9EU1zfpWs",
        "outputId": "56704acc-990f-4bb2-cf3c-a9831af4c1b7"
      },
      "execution_count": null,
      "outputs": [
        {
          "output_type": "stream",
          "name": "stdout",
          "text": [
            "['192.168.0.1', '10.0.0.1']\n"
          ]
        }
      ]
    },
    {
      "cell_type": "markdown",
      "source": [
        "## 4. Validating a URL\n",
        "Regex Pattern: r'https?://\\S+'\n",
        "\n",
        "Matches URLs starting with http or https followed by :// and any non-whitespace characters."
      ],
      "metadata": {
        "id": "DEWGyKsVgXjp"
      }
    },
    {
      "cell_type": "code",
      "source": [
        "url_regex = r'https?://\\S+'\n",
        "urls = re.findall(url_regex, \"Visit our site at https://www.example.com\")\n",
        "print(urls)"
      ],
      "metadata": {
        "colab": {
          "base_uri": "https://localhost:8080/"
        },
        "id": "cXLDbN2dfpZl",
        "outputId": "6c56fd6a-d004-4836-811c-5cdb62a8ab19"
      },
      "execution_count": null,
      "outputs": [
        {
          "output_type": "stream",
          "name": "stdout",
          "text": [
            "['https://www.example.com']\n"
          ]
        }
      ]
    },
    {
      "cell_type": "markdown",
      "source": [
        "## 5. Capturing HTML Tags\n",
        "Regex Pattern: r'<(\\w+).*?>.*?</\\1>'\n",
        "\n",
        "Matches HTML tags and their content. \\1 refers to the content of the first captured group."
      ],
      "metadata": {
        "id": "ZfMnUWJogfcW"
      }
    },
    {
      "cell_type": "code",
      "source": [
        "html_regex = r'<(\\w+).*?>.*?</\\1>'\n",
        "html_tags = re.findall(html_regex, \"<div>Hello World!</div><p>Welcome to Regex</p>\")\n",
        "print(html_tags)"
      ],
      "metadata": {
        "colab": {
          "base_uri": "https://localhost:8080/"
        },
        "id": "NpngImVAfpdA",
        "outputId": "8187c5d4-4e21-4b53-8fa1-38f65f1ab8a2"
      },
      "execution_count": null,
      "outputs": [
        {
          "output_type": "stream",
          "name": "stdout",
          "text": [
            "['div', 'p']\n"
          ]
        }
      ]
    },
    {
      "cell_type": "markdown",
      "source": [
        "## 6. Identifying Capitalized Words\n",
        "Regex Pattern: r'\\b[A-Z][a-z]*\\b'\n",
        "\n",
        "Matches words that start with a capital letter."
      ],
      "metadata": {
        "id": "fBXF5Jx6gptn"
      }
    },
    {
      "cell_type": "code",
      "source": [
        "capitalized_words_regex = r'\\b[A-Z][a-z]*\\b'\n",
        "capitalized_words = re.findall(capitalized_words_regex, \"Regex is used in Python and Java.\")\n",
        "print(capitalized_words)"
      ],
      "metadata": {
        "colab": {
          "base_uri": "https://localhost:8080/"
        },
        "id": "jBDNZkdKghEg",
        "outputId": "cd3aae17-fcd6-4472-ca49-23cb3a411f32"
      },
      "execution_count": null,
      "outputs": [
        {
          "output_type": "stream",
          "name": "stdout",
          "text": [
            "['Regex', 'Python', 'Java']\n"
          ]
        }
      ]
    },
    {
      "cell_type": "markdown",
      "source": [
        "## 7. Matching a Specific Date Format (YYYY-MM-DD)\n",
        "Regex Pattern: r'\\b\\d{4}-\\d{2}-\\d{2}\\b'\n",
        "\n",
        "Matches dates in the format YYYY-MM-DD."
      ],
      "metadata": {
        "id": "2Gqi4Co3g1pY"
      }
    },
    {
      "cell_type": "code",
      "source": [
        "date_regex = r'\\b\\d{4}-\\d{2}-\\d{2}\\b'\n",
        "dates = re.findall(date_regex, \"Today's date is 2024-01-07.\")\n",
        "print(dates)"
      ],
      "metadata": {
        "colab": {
          "base_uri": "https://localhost:8080/"
        },
        "id": "kdb3vUynghG2",
        "outputId": "7fd4af7d-d1af-46db-d523-efa56c87933c"
      },
      "execution_count": null,
      "outputs": [
        {
          "output_type": "stream",
          "name": "stdout",
          "text": [
            "['2024-01-07']\n"
          ]
        }
      ]
    },
    {
      "cell_type": "markdown",
      "source": [
        "## Combining all the approaches"
      ],
      "metadata": {
        "id": "R6zXZJQyhP-f"
      }
    },
    {
      "cell_type": "code",
      "source": [
        "import re\n",
        "\n",
        "# Sample text for demonstration\n",
        "sample_text = \"\"\"\n",
        "Contact us at support@example.com or visit us at http://www.example.com.\n",
        "Event date is 03/25/2023, see you then!\n",
        "Special characters: @#$%, non-alphanumeric: abc123\n",
        "\"\"\"\n",
        "\n",
        "# Regex for email extraction\n",
        "email_regex = r'\\b[A-Za-z0-9._%+-]+@[A-Za-z0-9.-]+\\.[A-Z|a-z]{2,}\\b'\n",
        "emails = re.findall(email_regex, sample_text)\n",
        "print(\"Extracted Emails:\", emails)\n",
        "print(\"--\")\n",
        "print(\"\\n\")\n",
        "# Regex for date extraction and standardization\n",
        "date_regex = r'(\\d{2})/(\\d{2})/(\\d{4})'\n",
        "dates = re.findall(date_regex, sample_text)\n",
        "standardized_dates = [f\"{year}-{month}-{day}\" for month, day, year in dates]\n",
        "print(\"Standardized Dates:\", standardized_dates)\n",
        "print(\"--\")\n",
        "print(\"\\n\")\n",
        "# Regex for removing non-alphanumeric characters (excluding spaces)\n",
        "non_alpha_num_regex = r'[^\\w\\s]'\n",
        "cleaned_text = re.sub(non_alpha_num_regex, '', sample_text)\n",
        "print(\"Text after removing non-alphanumeric characters:\", cleaned_text)\n",
        "print(\"--\")"
      ],
      "metadata": {
        "colab": {
          "base_uri": "https://localhost:8080/"
        },
        "id": "yveIvBxudHNg",
        "outputId": "4046cee3-097a-4718-82d3-264ee70db1a5"
      },
      "execution_count": null,
      "outputs": [
        {
          "output_type": "stream",
          "name": "stdout",
          "text": [
            "Extracted Emails: ['support@example.com']\n",
            "--\n",
            "\n",
            "\n",
            "Standardized Dates: ['2023-03-25']\n",
            "--\n",
            "\n",
            "\n",
            "Text after removing non-alphanumeric characters: \n",
            "Contact us at supportexamplecom or visit us at httpwwwexamplecom\n",
            "Event date is 03252023 see you then\n",
            "Special characters  nonalphanumeric abc123\n",
            "\n",
            "--\n"
          ]
        }
      ]
    },
    {
      "cell_type": "markdown",
      "source": [
        "\n",
        "\n",
        "# 2.2 Text Cleaning and Preprocessing"
      ],
      "metadata": {
        "id": "g6zgjyeIfgJa"
      }
    },
    {
      "cell_type": "markdown",
      "source": [
        "### Text Cleaning and Pre-processing in Natural Language Processing (NLP)\n",
        "\n",
        "Text cleaning and pre-processing are crucial steps in the NLP pipeline. They involve preparing the raw text data for further analysis and processing, such as feature extraction, machine learning, or deep learning models. These steps are fundamental because the quality of the data significantly impacts the performance of NLP models.\n",
        "\n",
        "#### Why is Text Cleaning Important?\n",
        "- **Consistency:** Raw text often contains inconsistencies in formatting, spelling, and grammar. Cleaning helps standardize the text.\n",
        "- **Noise Reduction:** Text data, especially from the internet, is riddled with noise (irrelevant information) like HTML tags, URLs, special characters, etc.\n",
        "- **Improving Accuracy:** Cleaner data means more accurate models. Irrelevant or misleading information can lead to poor model performance.\n",
        "\n",
        "#### Common Text Cleaning and Pre-processing Steps:\n",
        "1. **Lowercasing:** Convert the text to lowercase to ensure uniformity. This is important because 'Apple', 'apple', and 'APPLE' should be treated as the same word.\n",
        "\n",
        "2. **Removing Punctuation and Special Characters:** Punctuation marks and special characters often don’t contribute to the meaning of a text for certain analysis tasks.\n",
        "\n",
        "3. **Removing Stop Words:** Stop words like 'the', 'is', 'in', etc., are very common and usually don't carry important meaning, so they are often removed.\n",
        "\n",
        "4. **Tokenization:** This involves breaking down the text into individual words or tokens. It's a fundamental step for many NLP tasks.\n",
        "\n",
        "5. **Lemmatization/Stemming:** These processes reduce words to their base or root form. Lemmatization considers the context and converts the word to its meaningful base form, whereas stemming simply removes suffixes.\n",
        "\n",
        "6. **Removing Numbers or Converting Number Words to Numeric Form:** Depending on the task, numbers might be irrelevant or need standardization.\n",
        "\n",
        "7. **Handling Emojis and Emoticons:** In social media text, emoticons or emojis can carry significant sentiment information.\n",
        "\n",
        "8. **Correcting Spelling:** Especially important for user-generated content where misspellings are common.\n",
        "\n",
        "9. **Removing HTML Tags and URLs:** In web data, HTML tags and URLs are usually irrelevant to NLP tasks.\n",
        "\n",
        "10. **White Space Removal:** Extra white spaces, line breaks, and tab spaces should be removed for consistency.\n",
        "\n",
        "#### Conclusion:\n",
        "Pre-processing is tailored to the specific needs of the project or the NLP task at hand. It’s about making the text as simple and consistent as possible for the computer to understand, without losing the information that’s crucial for the task. This step is a balance between cleaning the data and retaining meaningful content.\n"
      ],
      "metadata": {
        "id": "8kZl-60GimBO"
      }
    },
    {
      "cell_type": "code",
      "source": [
        "!pip install nltk"
      ],
      "metadata": {
        "colab": {
          "base_uri": "https://localhost:8080/"
        },
        "id": "LTvpgzKIf4XY",
        "outputId": "793559cf-7434-4c9f-8bac-72952f7be0be"
      },
      "execution_count": null,
      "outputs": [
        {
          "output_type": "stream",
          "name": "stdout",
          "text": [
            "Requirement already satisfied: nltk in /usr/local/lib/python3.10/dist-packages (3.8.1)\n",
            "Requirement already satisfied: click in /usr/local/lib/python3.10/dist-packages (from nltk) (8.1.7)\n",
            "Requirement already satisfied: joblib in /usr/local/lib/python3.10/dist-packages (from nltk) (1.3.2)\n",
            "Requirement already satisfied: regex>=2021.8.3 in /usr/local/lib/python3.10/dist-packages (from nltk) (2023.6.3)\n",
            "Requirement already satisfied: tqdm in /usr/local/lib/python3.10/dist-packages (from nltk) (4.66.1)\n"
          ]
        }
      ]
    },
    {
      "cell_type": "code",
      "execution_count": null,
      "metadata": {
        "colab": {
          "base_uri": "https://localhost:8080/"
        },
        "id": "yUYgpz7Ie1N-",
        "outputId": "3c61a7f1-392f-4325-9e94-bc10624d76f4"
      },
      "outputs": [
        {
          "output_type": "stream",
          "name": "stderr",
          "text": [
            "[nltk_data] Downloading package punkt to /root/nltk_data...\n",
            "[nltk_data]   Unzipping tokenizers/punkt.zip.\n"
          ]
        },
        {
          "output_type": "stream",
          "name": "stdout",
          "text": [
            "\n",
            "\n",
            "Cleaned Text: \n",
            "this is a sample text with html tags urls like  and some special characters like    etc\n",
            "\n",
            "\n",
            "Words: ['this', 'is', 'a', 'sample', 'text', 'with', 'html', 'tags', 'urls', 'like', 'and', 'some', 'special', 'characters', 'like', 'etc']\n",
            "\n",
            "Sentences: ['\\nthis is a sample text with html tags urls like  and some special characters like    etc']\n"
          ]
        }
      ],
      "source": [
        "import re\n",
        "import nltk\n",
        "from nltk.tokenize import word_tokenize, sent_tokenize\n",
        "# \"Punkt\" refers to a tokenizer that is used for dividing a text into a list of sentences.\n",
        "nltk.download('punkt')\n",
        "\n",
        "# Sample text for demonstration\n",
        "sample_text = \"\"\"\n",
        "<p>This is a <a href=\"http://example.com\">sample</a> text with <b>HTML tags</b>, URLs like https://www.example.com, and some special characters like #, $, %, etc.</p>\n",
        "\"\"\"\n",
        "\n",
        "# Function to remove HTML tags\n",
        "def remove_html_tags(text):\n",
        "    return re.sub(r'<.*?>', '', text)\n",
        "\n",
        "# Function to remove URLs\n",
        "def remove_urls(text):\n",
        "    return re.sub(r'http[s]?://\\S+', '', text)\n",
        "\n",
        "# Function to remove special characters\n",
        "def remove_special_characters(text):\n",
        "    return re.sub(r'[^a-zA-Z\\s]', '', text)\n",
        "\n",
        "# Function to normalize text\n",
        "def normalize_text(text):\n",
        "    return text.lower()\n",
        "\n",
        "# Cleaning the text\n",
        "cleaned_text = remove_html_tags(sample_text)\n",
        "cleaned_text = remove_urls(cleaned_text)\n",
        "cleaned_text = remove_special_characters(cleaned_text)\n",
        "cleaned_text = normalize_text(cleaned_text)\n",
        "\n",
        "# Tokenization\n",
        "words = word_tokenize(cleaned_text)\n",
        "sentences = sent_tokenize(cleaned_text)\n",
        "\n",
        "\n",
        "print('\\n')\n",
        "print(\"Cleaned Text:\", cleaned_text)\n",
        "print(\"\\nWords:\", words)\n",
        "print(\"\\nSentences:\", sentences)\n"
      ]
    },
    {
      "cell_type": "markdown",
      "source": [
        "# 2.3 Lemmatization vs. Stemming"
      ],
      "metadata": {
        "id": "nebYXsHmgqDv"
      }
    },
    {
      "cell_type": "markdown",
      "source": [
        "### Lemmatization and Stemming in Natural Language Processing\n",
        "\n",
        "Lemmatization and Stemming are both text normalization techniques used in Natural Language Processing (NLP). They are used to prepare texts, words, and documents for further processing. Despite their similarities, they have distinct purposes and operate differently.\n",
        "\n",
        "#### What is Stemming?\n",
        "- **Definition:** Stemming is a process of reducing a word to its root form. It typically involves chopping off the ends of words in the hope of achieving this goal most of the time.\n",
        "- **How it works:** Stemmers work by cutting off the end or the beginning of the word, taking into account a list of common prefixes and suffixes that can be found in an inflected word.\n",
        "- **Example:** Stemming 'running', 'runs', 'ran' results in the root 'run'.\n",
        "- **Usage:** Stemming is often used in search engines for indexing words. It’s not concerned with the morphological correctness of the resulting word.\n",
        "\n",
        "#### What is Lemmatization?\n",
        "- **Definition:** Lemmatization, unlike Stemming, reduces the inflected words properly ensuring that the root word (lemma) belongs to the language.\n",
        "- **How it works:** A lemmatizer takes into consideration the morphological analysis of the words. It requires detailed dictionaries which the algorithm can look through to link the form back to its lemma.\n",
        "- **Example:** Lemmatizing 'am', 'are', 'is' results in the lemma 'be'.\n",
        "- **Usage:** Lemmatization is typically more sophisticated and accurate as it uses more informed analysis to create groups of words with similar meaning based on the context around the word.\n",
        "\n",
        "#### Key Differences:\n",
        "- **Accuracy:** Lemmatization is generally more accurate as it uses more complex morphological analysis to find the correct root word.\n",
        "- **Speed:** Stemming is faster than lemmatization since it simply chops off ends of a word.\n",
        "- **Result:** The output of stemming may not be a real word, but lemmatization always results in a dictionary word.\n",
        "\n",
        "#### Conclusion:\n",
        "Choosing between stemming and lemmatization is an important decision in NLP projects. It depends on the application and the level of precision required. Stemming is usually faster and simpler, but if you need the actual dictionary root of a word, lemmatization is the better choice.\n"
      ],
      "metadata": {
        "id": "90aFaioMjh54"
      }
    },
    {
      "cell_type": "code",
      "source": [
        "\n",
        "nltk.download('wordnet')\n",
        "nltk.download('punkt')\n",
        "nltk.download('omw-1.4')\n"
      ],
      "metadata": {
        "colab": {
          "base_uri": "https://localhost:8080/"
        },
        "id": "f-Dvfo3le_U6",
        "outputId": "61ba3644-44be-4a2c-82a4-1ab8b699a3e9"
      },
      "execution_count": null,
      "outputs": [
        {
          "output_type": "stream",
          "name": "stderr",
          "text": [
            "[nltk_data] Downloading package wordnet to /root/nltk_data...\n",
            "[nltk_data] Downloading package punkt to /root/nltk_data...\n",
            "[nltk_data]   Package punkt is already up-to-date!\n",
            "[nltk_data] Downloading package omw-1.4 to /root/nltk_data...\n"
          ]
        },
        {
          "output_type": "execute_result",
          "data": {
            "text/plain": [
              "True"
            ]
          },
          "metadata": {},
          "execution_count": 12
        }
      ]
    },
    {
      "cell_type": "code",
      "source": [
        "import nltk\n",
        "from nltk.stem import PorterStemmer, WordNetLemmatizer\n",
        "\n",
        "# Initialize Porter Stemmer and WordNet Lemmatizer\n",
        "stemmer = PorterStemmer()\n",
        "lemmatizer = WordNetLemmatizer()\n",
        "\n",
        "# List of words to compare\n",
        "words = [\"running\", \"flies\", \"mice\", \"played\", \"best\", \"University\", \"Universe\",\"Wonderful\" ]\n",
        "\n",
        "# Function to apply stemming and lemmatization\n",
        "def compare_stem_lemma(words):\n",
        "    for word in words:\n",
        "        stemmed = stemmer.stem(word)\n",
        "        lemmatized = lemmatizer.lemmatize(word)\n",
        "        print(f\"Original: {word}, Stemmed: {stemmed}, Lemmatized: {lemmatized}\")\n",
        "\n",
        "# Run the comparison\n",
        "compare_stem_lemma(words)\n"
      ],
      "metadata": {
        "colab": {
          "base_uri": "https://localhost:8080/"
        },
        "id": "oid-Ua4qe_XU",
        "outputId": "9f2fe2f0-ff29-4076-efc8-29e73957f0ad"
      },
      "execution_count": null,
      "outputs": [
        {
          "output_type": "stream",
          "name": "stdout",
          "text": [
            "Original: running, Stemmed: run, Lemmatized: running\n",
            "Original: flies, Stemmed: fli, Lemmatized: fly\n",
            "Original: mice, Stemmed: mice, Lemmatized: mouse\n",
            "Original: played, Stemmed: play, Lemmatized: played\n",
            "Original: best, Stemmed: best, Lemmatized: best\n",
            "Original: University, Stemmed: univers, Lemmatized: University\n",
            "Original: Universe, Stemmed: univers, Lemmatized: Universe\n",
            "Original: Wonderful, Stemmed: wonder, Lemmatized: Wonderful\n"
          ]
        }
      ]
    },
    {
      "cell_type": "markdown",
      "source": [
        "# 2.4 Feature Extraction Techniques"
      ],
      "metadata": {
        "id": "fj3Gun6gh-rk"
      }
    },
    {
      "cell_type": "markdown",
      "source": [
        "### Feature Extraction in Natural Language Processing (NLP)\n",
        "\n",
        "Feature extraction in NLP is the process of converting textual data into numerical features understandable by machine learning algorithms. It's a crucial step in the NLP pipeline, as it directly impacts the performance of models.\n",
        "\n",
        "#### Importance of Feature Extraction\n",
        "- **Data Transformation:** Converts raw text into a format that algorithms can work with.\n",
        "- **Capturing Essence:** Aims to capture the essential information from the text, leaving out irrelevant details.\n",
        "- **Improves Model Performance:** The quality of features extracted significantly influences the accuracy of NLP models.\n",
        "\n",
        "#### Common Methods of Feature Extraction:\n",
        "\n",
        "1. **Bag of Words (BoW):**\n",
        "   - **Description:** Represents text as the bag (multiset) of its words, disregarding grammar and word order but keeping multiplicity.\n",
        "   - **Usage:** Commonly used for document classification, where the frequency of each word is used as a feature.\n",
        "\n",
        "2. **Term Frequency-Inverse Document Frequency (TF-IDF):**\n",
        "   - **Description:** Reflects how important a word is to a document in a collection or corpus. It's a combination of two metrics: term frequency and inverse document frequency.\n",
        "   - **Usage:** Useful in search engine scoring, text summarization, and document clustering.\n",
        "\n",
        "3. **Word Embeddings (Word2Vec, GloVe):**\n",
        "   - **Description:** Provide a dense representation of words and their relative meanings, capturing context and semantic relationships.\n",
        "   - **Usage:** Widely used in deep learning models in NLP for tasks like sentiment analysis, machine translation, and named entity recognition.\n",
        "\n",
        "4. **Part-of-Speech Tagging:**\n",
        "   - **Description:** Involves identifying and tagging each word's part of speech (noun, verb, adjective, etc.).\n",
        "   - **Usage:** Helps in understanding the grammar of sentences, useful in syntactic parsing and text-to-speech conversion.\n",
        "\n",
        "5. **Named Entity Recognition (NER):**\n",
        "   - **Description:** Identifies and classifies named entities present in the text into predefined categories like the names of persons, organizations, locations, expressions of times, quantities, monetary values, percentages, etc.\n",
        "   - **Usage:** Essential in information extraction tasks and automated news aggregation.\n",
        "\n",
        "6. **Syntactic Parsing:**\n",
        "   - **Description:** Involves the analysis of words in the sentence for grammar and their arrangement in a manner that shows the relationships among the words.\n",
        "   - **Usage:** Useful in understanding sentence structure, which aids in machine translation and question-answering systems.\n",
        "\n",
        "#### Conclusion:\n",
        "Feature extraction is a foundational step in NLP, transforming raw text into meaningful numerical representations. The choice of feature extraction technique depends on the nature of the text and the specific NLP task being performed.\n"
      ],
      "metadata": {
        "id": "ZlCdD34QkoU1"
      }
    },
    {
      "cell_type": "markdown",
      "source": [
        "## Bag of Words Model"
      ],
      "metadata": {
        "id": "wzvr3thmibEe"
      }
    },
    {
      "cell_type": "code",
      "source": [
        "import nltk\n",
        "from nltk.tokenize import word_tokenize\n",
        "from collections import Counter\n",
        "nltk.download('punkt')\n",
        "\n",
        "def create_bow(documents):\n",
        "    word_list = []\n",
        "    for doc in documents:\n",
        "        word_list.extend(word_tokenize(doc.lower()))\n",
        "    return Counter(word_list)\n",
        "\n",
        "# Example Documents\n",
        "documents = [\"NLTK is a great tool for NLP.\", \"NLP NLP NLP is fun with Python and NLTK.\",\"NLTK has many uses\"]\n",
        "\n",
        "# Manual BoW\n",
        "bow_manual = create_bow(documents)\n",
        "print(\"Manual BoW:\", bow_manual)\n",
        "\n",
        "# Using NLTK\n",
        "from nltk.probability import FreqDist\n",
        "\n",
        "words = word_tokenize(' '.join(documents).lower())\n",
        "print(words)\n",
        "bow_nltk = FreqDist(words)\n",
        "print(\"NLTK BoW:\", bow_nltk)\n"
      ],
      "metadata": {
        "colab": {
          "base_uri": "https://localhost:8080/"
        },
        "id": "v6UQqUrHe_Z3",
        "outputId": "59f56bac-30d8-46ba-de3b-ea99e8d9fccb"
      },
      "execution_count": null,
      "outputs": [
        {
          "output_type": "stream",
          "name": "stdout",
          "text": [
            "Manual BoW: Counter({'nlp': 4, 'nltk': 3, 'is': 2, '.': 2, 'a': 1, 'great': 1, 'tool': 1, 'for': 1, 'fun': 1, 'with': 1, 'python': 1, 'and': 1, 'has': 1, 'many': 1, 'uses': 1})\n",
            "['nltk', 'is', 'a', 'great', 'tool', 'for', 'nlp', '.', 'nlp', 'nlp', 'nlp', 'is', 'fun', 'with', 'python', 'and', 'nltk', '.', 'nltk', 'has', 'many', 'uses']\n",
            "NLTK BoW: <FreqDist with 15 samples and 22 outcomes>\n"
          ]
        },
        {
          "output_type": "stream",
          "name": "stderr",
          "text": [
            "[nltk_data] Downloading package punkt to /root/nltk_data...\n",
            "[nltk_data]   Package punkt is already up-to-date!\n"
          ]
        }
      ]
    },
    {
      "cell_type": "code",
      "source": [
        "import nltk\n",
        "from nltk.tokenize import word_tokenize\n",
        "import pandas as pd\n",
        "import seaborn as sns\n",
        "import matplotlib.pyplot as plt\n",
        "\n",
        "nltk.download('punkt')\n",
        "\n",
        "def create_bow(documents):\n",
        "    # Tokenize each document\n",
        "    tokenized_docs = [word_tokenize(doc.lower()) for doc in documents]\n",
        "\n",
        "    # Create a list of all words\n",
        "    all_words = set(word for doc in tokenized_docs for word in doc)\n",
        "\n",
        "    # Count the frequency of each word in each document\n",
        "    bow = []\n",
        "    for doc in tokenized_docs:\n",
        "        word_freq = {word: doc.count(word) for word in all_words}\n",
        "        bow.append(word_freq)\n",
        "\n",
        "    return pd.DataFrame(bow, index=[f\"Doc{i+1}\" for i in range(len(documents))])\n",
        "\n",
        "# Example Documents\n",
        "doc_1 = \"NLTK is a great tool for NLP.\"\n",
        "doc_2 = \"NLP NLP NLP is fun with Python and NLTK.\"\n",
        "doc_3 = \"NLTK has many uses.\"\n",
        "documents = [doc_1, doc_2, doc_3]\n",
        "\n",
        "# Create BoW\n",
        "bow_df = create_bow(documents)\n",
        "\n",
        "# Show the dataframe.\n",
        "print(bow_df)"
      ],
      "metadata": {
        "colab": {
          "base_uri": "https://localhost:8080/"
        },
        "id": "VoN5qp6glyI1",
        "outputId": "dad2eb09-0b07-4212-cca3-877b489d2c6b"
      },
      "execution_count": null,
      "outputs": [
        {
          "output_type": "stream",
          "name": "stdout",
          "text": [
            "      tool  uses  nlp  python  a  nltk  fun  is  and  for  .  with  has  many  \\\n",
            "Doc1     1     0    1       0  1     1    0   1    0    1  1     0    0     0   \n",
            "Doc2     0     0    3       1  0     1    1   1    1    0  1     1    0     0   \n",
            "Doc3     0     1    0       0  0     1    0   0    0    0  1     0    1     1   \n",
            "\n",
            "      great  \n",
            "Doc1      1  \n",
            "Doc2      0  \n",
            "Doc3      0  \n"
          ]
        },
        {
          "output_type": "stream",
          "name": "stderr",
          "text": [
            "[nltk_data] Downloading package punkt to /root/nltk_data...\n",
            "[nltk_data]   Package punkt is already up-to-date!\n"
          ]
        }
      ]
    },
    {
      "cell_type": "code",
      "source": [
        "import nltk\n",
        "from nltk.tokenize import word_tokenize\n",
        "import pandas as pd\n",
        "import seaborn as sns\n",
        "import matplotlib.pyplot as plt\n",
        "\n",
        "nltk.download('punkt')\n",
        "\n",
        "def create_bow(documents):\n",
        "    # Tokenize each document\n",
        "    tokenized_docs = [word_tokenize(doc.lower()) for doc in documents]\n",
        "\n",
        "    # Create a list of all words\n",
        "    all_words = set(word for doc in tokenized_docs for word in doc)\n",
        "\n",
        "    # Count the frequency of each word in each document\n",
        "    bow = []\n",
        "    for doc in tokenized_docs:\n",
        "        word_freq = {word: doc.count(word) for word in all_words}\n",
        "        bow.append(word_freq)\n",
        "\n",
        "    return pd.DataFrame(bow, index=[f\"Doc{i+1}\" for i in range(len(documents))])\n",
        "\n",
        "# Expanded Example Documents\n",
        "doc_1 = \"Python is popular for data science.\"\n",
        "doc_2 = \"Data science and machine learning with Python.\"\n",
        "doc_3 = \"Python libraries like NLTK and Pandas are useful.\"\n",
        "doc_4 = \"Machine learning models are built using Python.\"\n",
        "doc_5 = \"NLTK NLTK is great for natural language processing.\"\n",
        "doc_6 = \"Pandas is a powerful tool for data manipulation.\"\n",
        "documents = [doc_1, doc_2, doc_3, doc_4, doc_5, doc_6]\n",
        "\n",
        "# Create BoW\n",
        "bow_df = create_bow(documents)\n",
        "\n",
        "# Show the dataframe\n",
        "print(bow_df)\n",
        "\n",
        "# Optional: Visualize using heatmap for a better understanding\n",
        "plt.figure(figsize=(12, 8))\n",
        "sns.heatmap(bow_df, annot=True, cmap=\"YlGnBu\")\n",
        "plt.xlabel('Words')\n",
        "plt.ylabel('Documents')\n",
        "plt.title('Bag of Words Representation')\n",
        "plt.show()\n"
      ],
      "metadata": {
        "colab": {
          "base_uri": "https://localhost:8080/",
          "height": 1000
        },
        "id": "c4Zjs0GBtyvi",
        "outputId": "9286cf4e-e117-47ab-ac1f-b563a0f0f8c2"
      },
      "execution_count": null,
      "outputs": [
        {
          "output_type": "stream",
          "name": "stderr",
          "text": [
            "[nltk_data] Downloading package punkt to /root/nltk_data...\n",
            "[nltk_data]   Package punkt is already up-to-date!\n"
          ]
        },
        {
          "output_type": "stream",
          "name": "stdout",
          "text": [
            "      tool  popular  is  models  with  language  processing  powerful  built  \\\n",
            "Doc1     0        1   1       0     0         0           0         0      0   \n",
            "Doc2     0        0   0       0     1         0           0         0      0   \n",
            "Doc3     0        0   0       0     0         0           0         0      0   \n",
            "Doc4     0        0   0       1     0         0           0         0      1   \n",
            "Doc5     0        0   1       0     0         1           1         0      0   \n",
            "Doc6     1        0   1       0     0         0           0         1      0   \n",
            "\n",
            "      python  ...  natural  science  using  a  nltk  learning  data  \\\n",
            "Doc1       1  ...        0        1      0  0     0         0     1   \n",
            "Doc2       1  ...        0        1      0  0     0         1     1   \n",
            "Doc3       1  ...        0        0      0  0     1         0     0   \n",
            "Doc4       1  ...        0        0      1  0     0         1     0   \n",
            "Doc5       0  ...        1        0      0  0     2         0     0   \n",
            "Doc6       0  ...        0        0      0  1     0         0     1   \n",
            "\n",
            "      libraries  useful  manipulation  \n",
            "Doc1          0       0             0  \n",
            "Doc2          0       0             0  \n",
            "Doc3          1       1             0  \n",
            "Doc4          0       0             0  \n",
            "Doc5          0       0             0  \n",
            "Doc6          0       0             1  \n",
            "\n",
            "[6 rows x 28 columns]\n"
          ]
        },
        {
          "output_type": "display_data",
          "data": {
            "text/plain": [
              "<Figure size 1200x800 with 2 Axes>"
            ],
            "image/png": "[encoded data removed]"
          },
          "metadata": {}
        }
      ]
    },
    {
      "cell_type": "markdown",
      "source": [
        "## TF-IDF Using Scikit-Learn"
      ],
      "metadata": {
        "id": "cpKxWS0Aii24"
      }
    },
    {
      "cell_type": "markdown",
      "source": [
        "### Scikit-learn in Python\n",
        "\n",
        "Scikit-learn is a popular and versatile machine learning library in Python. It is widely used for both academic and commercial applications due to its robustness, ease of use, and the breadth of algorithms it supports.\n",
        "\n",
        "#### Overview of Scikit-learn\n",
        "- **Purpose:** Scikit-learn is designed for data mining and data analysis. It is built on NumPy, SciPy, and Matplotlib.\n",
        "- **Versatility:** It offers various tools for machine learning and statistical modeling including classification, regression, clustering, and dimensionality reduction.\n",
        "- **User-Friendly:** Known for its easy-to-understand API, it makes machine learning accessible to non-experts and experts alike.\n",
        "\n",
        "#### Key Features\n",
        "- **Wide Range of Algorithms:** Scikit-learn includes support for many of the standard machine learning algorithms like support vector machines, random forests, gradient boosting, k-means, and DBSCAN.\n",
        "- **Model Evaluation and Selection:** Tools for cross-validation, metrics to measure the performance of models, and techniques for tuning model parameters.\n",
        "- **Data Preprocessing:** Contains functions for feature extraction, normalization, and transformation.\n",
        "- **Built-in Datasets:** Comes with a few standard datasets to quickly get started with learning machine learning concepts.\n",
        "- **Pipelines:** Ability to create complex data-processing pipelines, which ensures that the same sequence of steps is followed for both training and testing data.\n",
        "\n",
        "#### Applications in Machine Learning\n",
        "- **Predictive Modeling:** Building models to predict future outcomes based on observed data.\n",
        "- **Data Analysis:** Understanding data and drawing insights through various statistical methods.\n",
        "- **Automating Data Processing:** Streamlining workflows by automating data preprocessing and model training processes.\n",
        "\n",
        "#### Installation\n",
        "Scikit-learn can be easily installed using pip:\n",
        "```bash\n",
        "pip install scikit-learn\n"
      ],
      "metadata": {
        "id": "xgbc9DV-xVud"
      }
    },
    {
      "cell_type": "code",
      "source": [
        "from sklearn.feature_extraction.text import TfidfVectorizer\n",
        "\n",
        "documents = [\"NLTK is a great tool for NLP.\", \"NLP is fun with Python and NLTK.\", \"Text processing with NLTK.\", \"I love NLTK\"]\n",
        "\n",
        "# Create the TF-IDF model\n",
        "vectorizer = TfidfVectorizer()\n",
        "tfidf_matrix = vectorizer.fit_transform(documents)\n",
        "\n",
        "# Output the TF-IDF matrix\n",
        "print(tfidf_matrix.toarray())\n"
      ],
      "metadata": {
        "colab": {
          "base_uri": "https://localhost:8080/"
        },
        "id": "hoIlMq2Ie_cX",
        "outputId": "dcd99a42-4bed-4fb8-ac49-ecdfac1ef4c0"
      },
      "execution_count": null,
      "outputs": [
        {
          "output_type": "stream",
          "name": "stdout",
          "text": [
            "[[0.         0.47059455 0.         0.47059455 0.37102215 0.\n",
            "  0.37102215 0.24557576 0.         0.         0.         0.47059455\n",
            "  0.        ]\n",
            " [0.44120572 0.         0.44120572 0.         0.34785166 0.\n",
            "  0.34785166 0.23023945 0.         0.44120572 0.         0.\n",
            "  0.34785166]\n",
            " [0.         0.         0.         0.         0.         0.\n",
            "  0.         0.30675807 0.58783765 0.         0.58783765 0.\n",
            "  0.46345796]\n",
            " [0.         0.         0.         0.         0.         0.88654763\n",
            "  0.         0.46263733 0.         0.         0.         0.\n",
            "  0.        ]]\n"
          ]
        }
      ]
    },
    {
      "cell_type": "markdown",
      "source": [
        "### Visualizing the TF-IDF"
      ],
      "metadata": {
        "id": "HE7zRDivyLVx"
      }
    },
    {
      "cell_type": "code",
      "source": [
        "from sklearn.feature_extraction.text import TfidfVectorizer\n",
        "import pandas as pd\n",
        "import seaborn as sns\n",
        "import matplotlib.pyplot as plt\n",
        "\n",
        "doc_1 = \"NLTK is a great tool for NLP.\"\n",
        "doc_2 = \"NLP is fun with Python and NLTK.\"\n",
        "doc_3 = \"Text processing with NLTK.\"\n",
        "doc_4 = \"I love NLTK\"\n",
        "\n",
        "documents = [doc_1, doc_2 , doc_3, doc_4 ]\n",
        "\n",
        "# Create the TF-IDF model\n",
        "vectorizer = TfidfVectorizer()\n",
        "tfidf_matrix = vectorizer.fit_transform(documents)\n",
        "\n",
        "# Convert the TF-IDF matrix to a DataFrame\n",
        "feature_names = vectorizer.get_feature_names_out()\n",
        "tfidf_df = pd.DataFrame(tfidf_matrix.toarray(), columns=feature_names, index=[f\"Doc{i+1}\" for i in range(len(documents))])\n",
        "\n",
        "# Display the DataFrame\n",
        "print(tfidf_df)\n",
        "\n",
        "# Visualize using heatmap\n",
        "plt.figure(figsize=(12, 6))\n",
        "sns.heatmap(tfidf_df, annot=True, cmap=\"YlGnBu\", cbar=False)\n",
        "plt.xlabel('Words')\n",
        "plt.ylabel('Documents')\n",
        "plt.title('TF-IDF Representation')\n",
        "plt.show()"
      ],
      "metadata": {
        "colab": {
          "base_uri": "https://localhost:8080/",
          "height": 755
        },
        "id": "88K_rhewmzEO",
        "outputId": "812bd848-3687-4f5a-ba82-343a460d3a01"
      },
      "execution_count": null,
      "outputs": [
        {
          "output_type": "stream",
          "name": "stdout",
          "text": [
            "           and       for       fun     great        is      love       nlp  \\\n",
            "Doc1  0.000000  0.470595  0.000000  0.470595  0.371022  0.000000  0.371022   \n",
            "Doc2  0.441206  0.000000  0.441206  0.000000  0.347852  0.000000  0.347852   \n",
            "Doc3  0.000000  0.000000  0.000000  0.000000  0.000000  0.000000  0.000000   \n",
            "Doc4  0.000000  0.000000  0.000000  0.000000  0.000000  0.886548  0.000000   \n",
            "\n",
            "          nltk  processing    python      text      tool      with  \n",
            "Doc1  0.245576    0.000000  0.000000  0.000000  0.470595  0.000000  \n",
            "Doc2  0.230239    0.000000  0.441206  0.000000  0.000000  0.347852  \n",
            "Doc3  0.306758    0.587838  0.000000  0.587838  0.000000  0.463458  \n",
            "Doc4  0.462637    0.000000  0.000000  0.000000  0.000000  0.000000  \n"
          ]
        },
        {
          "output_type": "display_data",
          "data": {
            "text/plain": [
              "<Figure size 1200x600 with 1 Axes>"
            ],
            "image/png": "[encoded data removed]"
          },
          "metadata": {}
        }
      ]
    },
    {
      "cell_type": "markdown",
      "source": [
        "##  Experiment with Word2Vec"
      ],
      "metadata": {
        "id": "ojOMPw9WisIn"
      }
    },
    {
      "cell_type": "code",
      "source": [
        "import gensim\n",
        "from gensim.models import Word2Vec\n",
        "nltk.download('stopwords')\n",
        "from nltk.corpus import stopwords\n",
        "\n",
        "# Sample Text\n",
        "documents = [\"NLTK is a great tool for NLP.\", \"NLP is fun with Python and NLTK.\", \"Text processing with NLTK is great.\"]\n",
        "\n",
        "# Tokenization and removing stopwords\n",
        "stop_words = set(stopwords.words('english'))\n",
        "tokenized_docs = [[word for word in word_tokenize(doc.lower()) if word not in stop_words] for doc in documents]\n",
        "\n",
        "# Word2Vec Model\n",
        "# workers: This parameter is for training parallelization, to speed up training.\n",
        "# workers=2 means the training process will use two threads. The number of workers should not exceed the number of cores in your machine.\n",
        "model = Word2Vec(sentences=tokenized_docs, vector_size=100, window=5, min_count=1, workers=2)\n",
        "\n",
        "# Exploring Word Similarities\n",
        "word = \"nlp\"\n",
        "similar_words = model.wv.most_similar(word, topn=5)\n",
        "print(f\"Words similar to {word}: {similar_words}\")\n"
      ],
      "metadata": {
        "colab": {
          "base_uri": "https://localhost:8080/"
        },
        "id": "5aMC0w5be_e4",
        "outputId": "bd441d59-0a74-473d-f2e6-c43b0ba29f1a"
      },
      "execution_count": null,
      "outputs": [
        {
          "output_type": "stream",
          "name": "stderr",
          "text": [
            "[nltk_data] Downloading package stopwords to /root/nltk_data...\n"
          ]
        },
        {
          "output_type": "stream",
          "name": "stdout",
          "text": [
            "Words similar to nlp: [('tool', 0.1991206258535385), ('processing', 0.17018885910511017), ('python', 0.145950585603714), ('text', 0.06408977508544922), ('fun', -0.0027522160671651363)]\n"
          ]
        },
        {
          "output_type": "stream",
          "name": "stderr",
          "text": [
            "[nltk_data]   Unzipping corpora/stopwords.zip.\n"
          ]
        }
      ]
    },
    {
      "cell_type": "markdown",
      "source": [
        "# 2.5 Word Embeddings Visualization"
      ],
      "metadata": {
        "id": "0Hhe4QqGLuu1"
      }
    },
    {
      "cell_type": "markdown",
      "source": [
        "### Word Embeddings in Natural Language Processing (NLP)\n",
        "\n",
        "Word embeddings are a type of word representation that allows words with similar meaning to have a similar representation. They are a fundamental element in the field of NLP and have significantly improved the performance of various linguistic tasks.\n",
        "\n",
        "#### What are Word Embeddings?\n",
        "- **Definition:** Word embeddings are dense vector representations of words in a low-dimensional space. Unlike sparse representations like one-hot encoding, embeddings capture semantic meanings and relationships between words.\n",
        "- **How They Work:** These vectors are learned in a way that positions words with similar meanings close together in the vector space. For example, \"king\" and \"queen\" would be closer than \"king\" and \"apple\".\n",
        "- **High-Dimensional Vectors:** Typically, word embeddings are represented in hundreds of dimensions (e.g., 300 dimensions).\n",
        "- **Trained on Context:** The vectors are trained based on the context in which words appear. Words that appear in similar contexts have similar embeddings.\n",
        "- **Pre-Trained Models:** Often, embeddings are pre-trained on large text corpora (e.g., Wikipedia, news articles) and then used in specific tasks.\n",
        "\n",
        "#### Simplified Representation in Code\n",
        "In the provided Python script, we use a simple, conceptual approach to demonstrate word embeddings. We use mock 2D vectors to represent words like 'king', 'queen', 'man', etc. This approach is for illustrative purposes only, to help visualize how word embeddings might position words in a vector space.\n",
        "\n",
        "#### Popular Word Embedding Models:\n",
        "1. **Word2Vec:** Developed by Google, it offers two architectures: Continuous Bag of Words (CBOW) and Skip-Gram.\n",
        "2. **GloVe (Global Vectors for Word Representation):** Developed by Stanford, it focuses on word co-occurrences over the whole corpus.\n",
        "3. **FastText:** Developed by Facebook, it extends Word2Vec to consider subword information, which helps in understanding morphologically rich languages.\n",
        "\n",
        "#### Applications in NLP:\n",
        "- **Semantic Analysis:** Understanding the meaning and sentiment of text.\n",
        "- **Machine Translation:** Translating text from one language to another.\n",
        "- **Information Retrieval:** Enhancing search algorithms.\n",
        "- **Text Classification:** Categorizing text into predefined classes.\n",
        "\n",
        "#### Conclusion:\n",
        "Word embeddings represent a breakthrough in NLP, offering a more nuanced and efficient representation of linguistic data compared to traditional models. They are integral to modern NLP systems, enabling machines to understand and process human language in a more sophisticated manner."
      ],
      "metadata": {
        "id": "ry3gtYSAp7Pl"
      }
    },
    {
      "cell_type": "code",
      "source": [
        "!pip install spacy\n",
        "!python -m spacy download en_core_web_md"
      ],
      "metadata": {
        "colab": {
          "base_uri": "https://localhost:8080/"
        },
        "id": "LpzKCwaePOGd",
        "outputId": "711e60fe-0c9e-4a23-8bdb-645c93daf018"
      },
      "execution_count": null,
      "outputs": [
        {
          "output_type": "stream",
          "name": "stdout",
          "text": [
            "Requirement already satisfied: spacy in /usr/local/lib/python3.10/dist-packages (3.6.1)\n",
            "Requirement already satisfied: spacy-legacy<3.1.0,>=3.0.11 in /usr/local/lib/python3.10/dist-packages (from spacy) (3.0.12)\n",
            "Requirement already satisfied: spacy-loggers<2.0.0,>=1.0.0 in /usr/local/lib/python3.10/dist-packages (from spacy) (1.0.5)\n",
            "Requirement already satisfied: murmurhash<1.1.0,>=0.28.0 in /usr/local/lib/python3.10/dist-packages (from spacy) (1.0.10)\n",
            "Requirement already satisfied: cymem<2.1.0,>=2.0.2 in /usr/local/lib/python3.10/dist-packages (from spacy) (2.0.8)\n",
            "Requirement already satisfied: preshed<3.1.0,>=3.0.2 in /usr/local/lib/python3.10/dist-packages (from spacy) (3.0.9)\n",
            "Requirement already satisfied: thinc<8.2.0,>=8.1.8 in /usr/local/lib/python3.10/dist-packages (from spacy) (8.1.12)\n",
            "Requirement already satisfied: wasabi<1.2.0,>=0.9.1 in /usr/local/lib/python3.10/dist-packages (from spacy) (1.1.2)\n",
            "Requirement already satisfied: srsly<3.0.0,>=2.4.3 in /usr/local/lib/python3.10/dist-packages (from spacy) (2.4.8)\n",
            "Requirement already satisfied: catalogue<2.1.0,>=2.0.6 in /usr/local/lib/python3.10/dist-packages (from spacy) (2.0.10)\n",
            "Requirement already satisfied: typer<0.10.0,>=0.3.0 in /usr/local/lib/python3.10/dist-packages (from spacy) (0.9.0)\n",
            "Requirement already satisfied: pathy>=0.10.0 in /usr/local/lib/python3.10/dist-packages (from spacy) (0.11.0)\n",
            "Requirement already satisfied: smart-open<7.0.0,>=5.2.1 in /usr/local/lib/python3.10/dist-packages (from spacy) (6.4.0)\n",
            "Requirement already satisfied: tqdm<5.0.0,>=4.38.0 in /usr/local/lib/python3.10/dist-packages (from spacy) (4.66.1)\n",
            "Requirement already satisfied: numpy>=1.15.0 in /usr/local/lib/python3.10/dist-packages (from spacy) (1.23.5)\n",
            "Requirement already satisfied: requests<3.0.0,>=2.13.0 in /usr/local/lib/python3.10/dist-packages (from spacy) (2.31.0)\n",
            "Requirement already satisfied: pydantic!=1.8,!=1.8.1,<3.0.0,>=1.7.4 in /usr/local/lib/python3.10/dist-packages (from spacy) (1.10.13)\n",
            "Requirement already satisfied: jinja2 in /usr/local/lib/python3.10/dist-packages (from spacy) (3.1.3)\n",
            "Requirement already satisfied: setuptools in /usr/local/lib/python3.10/dist-packages (from spacy) (67.7.2)\n",
            "Requirement already satisfied: packaging>=20.0 in /usr/local/lib/python3.10/dist-packages (from spacy) (23.2)\n",
            "Requirement already satisfied: langcodes<4.0.0,>=3.2.0 in /usr/local/lib/python3.10/dist-packages (from spacy) (3.3.0)\n",
            "Requirement already satisfied: pathlib-abc==0.1.1 in /usr/local/lib/python3.10/dist-packages (from pathy>=0.10.0->spacy) (0.1.1)\n",
            "Requirement already satisfied: typing-extensions>=4.2.0 in /usr/local/lib/python3.10/dist-packages (from pydantic!=1.8,!=1.8.1,<3.0.0,>=1.7.4->spacy) (4.5.0)\n",
            "Requirement already satisfied: charset-normalizer<4,>=2 in /usr/local/lib/python3.10/dist-packages (from requests<3.0.0,>=2.13.0->spacy) (3.3.2)\n",
            "Requirement already satisfied: idna<4,>=2.5 in /usr/local/lib/python3.10/dist-packages (from requests<3.0.0,>=2.13.0->spacy) (3.6)\n",
            "Requirement already satisfied: urllib3<3,>=1.21.1 in /usr/local/lib/python3.10/dist-packages (from requests<3.0.0,>=2.13.0->spacy) (2.0.7)\n",
            "Requirement already satisfied: certifi>=2017.4.17 in /usr/local/lib/python3.10/dist-packages (from requests<3.0.0,>=2.13.0->spacy) (2023.11.17)\n",
            "Requirement already satisfied: blis<0.8.0,>=0.7.8 in /usr/local/lib/python3.10/dist-packages (from thinc<8.2.0,>=8.1.8->spacy) (0.7.11)\n",
            "Requirement already satisfied: confection<1.0.0,>=0.0.1 in /usr/local/lib/python3.10/dist-packages (from thinc<8.2.0,>=8.1.8->spacy) (0.1.4)\n",
            "Requirement already satisfied: click<9.0.0,>=7.1.1 in /usr/local/lib/python3.10/dist-packages (from typer<0.10.0,>=0.3.0->spacy) (8.1.7)\n",
            "Requirement already satisfied: MarkupSafe>=2.0 in /usr/local/lib/python3.10/dist-packages (from jinja2->spacy) (2.1.3)\n",
            "2024-01-20 02:06:52.396538: E external/local_xla/xla/stream_executor/cuda/cuda_dnn.cc:9261] Unable to register cuDNN factory: Attempting to register factory for plugin cuDNN when one has already been registered\n",
            "2024-01-20 02:06:52.406462: E external/local_xla/xla/stream_executor/cuda/cuda_fft.cc:607] Unable to register cuFFT factory: Attempting to register factory for plugin cuFFT when one has already been registered\n",
            "2024-01-20 02:06:52.408689: E external/local_xla/xla/stream_executor/cuda/cuda_blas.cc:1515] Unable to register cuBLAS factory: Attempting to register factory for plugin cuBLAS when one has already been registered\n",
            "2024-01-20 02:06:52.424594: I tensorflow/core/platform/cpu_feature_guard.cc:182] This TensorFlow binary is optimized to use available CPU instructions in performance-critical operations.\n",
            "To enable the following instructions: AVX2 FMA, in other operations, rebuild TensorFlow with the appropriate compiler flags.\n",
            "2024-01-20 02:06:56.366501: W tensorflow/compiler/tf2tensorrt/utils/py_utils.cc:38] TF-TRT Warning: Could not find TensorRT\n",
            "Collecting en-core-web-md==3.6.0\n",
            "  Downloading https://github.com/explosion/spacy-models/releases/download/en_core_web_md-3.6.0/en_core_web_md-3.6.0-py3-none-any.whl (42.8 MB)\n",
            "\u001b[2K     \u001b[90m━━━━━━━━━━━━━━━━━━━━━━━━━━━━━━━━━━━━━━━━\u001b[0m \u001b[32m42.8/42.8 MB\u001b[0m \u001b[31m13.5 MB/s\u001b[0m eta \u001b[36m0:00:00\u001b[0m\n",
            "\u001b[?25hRequirement already satisfied: spacy<3.7.0,>=3.6.0 in /usr/local/lib/python3.10/dist-packages (from en-core-web-md==3.6.0) (3.6.1)\n",
            "Requirement already satisfied: spacy-legacy<3.1.0,>=3.0.11 in /usr/local/lib/python3.10/dist-packages (from spacy<3.7.0,>=3.6.0->en-core-web-md==3.6.0) (3.0.12)\n",
            "Requirement already satisfied: spacy-loggers<2.0.0,>=1.0.0 in /usr/local/lib/python3.10/dist-packages (from spacy<3.7.0,>=3.6.0->en-core-web-md==3.6.0) (1.0.5)\n",
            "Requirement already satisfied: murmurhash<1.1.0,>=0.28.0 in /usr/local/lib/python3.10/dist-packages (from spacy<3.7.0,>=3.6.0->en-core-web-md==3.6.0) (1.0.10)\n",
            "Requirement already satisfied: cymem<2.1.0,>=2.0.2 in /usr/local/lib/python3.10/dist-packages (from spacy<3.7.0,>=3.6.0->en-core-web-md==3.6.0) (2.0.8)\n",
            "Requirement already satisfied: preshed<3.1.0,>=3.0.2 in /usr/local/lib/python3.10/dist-packages (from spacy<3.7.0,>=3.6.0->en-core-web-md==3.6.0) (3.0.9)\n",
            "Requirement already satisfied: thinc<8.2.0,>=8.1.8 in /usr/local/lib/python3.10/dist-packages (from spacy<3.7.0,>=3.6.0->en-core-web-md==3.6.0) (8.1.12)\n",
            "Requirement already satisfied: wasabi<1.2.0,>=0.9.1 in /usr/local/lib/python3.10/dist-packages (from spacy<3.7.0,>=3.6.0->en-core-web-md==3.6.0) (1.1.2)\n",
            "Requirement already satisfied: srsly<3.0.0,>=2.4.3 in /usr/local/lib/python3.10/dist-packages (from spacy<3.7.0,>=3.6.0->en-core-web-md==3.6.0) (2.4.8)\n",
            "Requirement already satisfied: catalogue<2.1.0,>=2.0.6 in /usr/local/lib/python3.10/dist-packages (from spacy<3.7.0,>=3.6.0->en-core-web-md==3.6.0) (2.0.10)\n",
            "Requirement already satisfied: typer<0.10.0,>=0.3.0 in /usr/local/lib/python3.10/dist-packages (from spacy<3.7.0,>=3.6.0->en-core-web-md==3.6.0) (0.9.0)\n",
            "Requirement already satisfied: pathy>=0.10.0 in /usr/local/lib/python3.10/dist-packages (from spacy<3.7.0,>=3.6.0->en-core-web-md==3.6.0) (0.11.0)\n",
            "Requirement already satisfied: smart-open<7.0.0,>=5.2.1 in /usr/local/lib/python3.10/dist-packages (from spacy<3.7.0,>=3.6.0->en-core-web-md==3.6.0) (6.4.0)\n",
            "Requirement already satisfied: tqdm<5.0.0,>=4.38.0 in /usr/local/lib/python3.10/dist-packages (from spacy<3.7.0,>=3.6.0->en-core-web-md==3.6.0) (4.66.1)\n",
            "Requirement already satisfied: numpy>=1.15.0 in /usr/local/lib/python3.10/dist-packages (from spacy<3.7.0,>=3.6.0->en-core-web-md==3.6.0) (1.23.5)\n",
            "Requirement already satisfied: requests<3.0.0,>=2.13.0 in /usr/local/lib/python3.10/dist-packages (from spacy<3.7.0,>=3.6.0->en-core-web-md==3.6.0) (2.31.0)\n",
            "Requirement already satisfied: pydantic!=1.8,!=1.8.1,<3.0.0,>=1.7.4 in /usr/local/lib/python3.10/dist-packages (from spacy<3.7.0,>=3.6.0->en-core-web-md==3.6.0) (1.10.13)\n",
            "Requirement already satisfied: jinja2 in /usr/local/lib/python3.10/dist-packages (from spacy<3.7.0,>=3.6.0->en-core-web-md==3.6.0) (3.1.3)\n",
            "Requirement already satisfied: setuptools in /usr/local/lib/python3.10/dist-packages (from spacy<3.7.0,>=3.6.0->en-core-web-md==3.6.0) (67.7.2)\n",
            "Requirement already satisfied: packaging>=20.0 in /usr/local/lib/python3.10/dist-packages (from spacy<3.7.0,>=3.6.0->en-core-web-md==3.6.0) (23.2)\n",
            "Requirement already satisfied: langcodes<4.0.0,>=3.2.0 in /usr/local/lib/python3.10/dist-packages (from spacy<3.7.0,>=3.6.0->en-core-web-md==3.6.0) (3.3.0)\n",
            "Requirement already satisfied: pathlib-abc==0.1.1 in /usr/local/lib/python3.10/dist-packages (from pathy>=0.10.0->spacy<3.7.0,>=3.6.0->en-core-web-md==3.6.0) (0.1.1)\n",
            "Requirement already satisfied: typing-extensions>=4.2.0 in /usr/local/lib/python3.10/dist-packages (from pydantic!=1.8,!=1.8.1,<3.0.0,>=1.7.4->spacy<3.7.0,>=3.6.0->en-core-web-md==3.6.0) (4.5.0)\n",
            "Requirement already satisfied: charset-normalizer<4,>=2 in /usr/local/lib/python3.10/dist-packages (from requests<3.0.0,>=2.13.0->spacy<3.7.0,>=3.6.0->en-core-web-md==3.6.0) (3.3.2)\n",
            "Requirement already satisfied: idna<4,>=2.5 in /usr/local/lib/python3.10/dist-packages (from requests<3.0.0,>=2.13.0->spacy<3.7.0,>=3.6.0->en-core-web-md==3.6.0) (3.6)\n",
            "Requirement already satisfied: urllib3<3,>=1.21.1 in /usr/local/lib/python3.10/dist-packages (from requests<3.0.0,>=2.13.0->spacy<3.7.0,>=3.6.0->en-core-web-md==3.6.0) (2.0.7)\n",
            "Requirement already satisfied: certifi>=2017.4.17 in /usr/local/lib/python3.10/dist-packages (from requests<3.0.0,>=2.13.0->spacy<3.7.0,>=3.6.0->en-core-web-md==3.6.0) (2023.11.17)\n",
            "Requirement already satisfied: blis<0.8.0,>=0.7.8 in /usr/local/lib/python3.10/dist-packages (from thinc<8.2.0,>=8.1.8->spacy<3.7.0,>=3.6.0->en-core-web-md==3.6.0) (0.7.11)\n",
            "Requirement already satisfied: confection<1.0.0,>=0.0.1 in /usr/local/lib/python3.10/dist-packages (from thinc<8.2.0,>=8.1.8->spacy<3.7.0,>=3.6.0->en-core-web-md==3.6.0) (0.1.4)\n",
            "Requirement already satisfied: click<9.0.0,>=7.1.1 in /usr/local/lib/python3.10/dist-packages (from typer<0.10.0,>=0.3.0->spacy<3.7.0,>=3.6.0->en-core-web-md==3.6.0) (8.1.7)\n",
            "Requirement already satisfied: MarkupSafe>=2.0 in /usr/local/lib/python3.10/dist-packages (from jinja2->spacy<3.7.0,>=3.6.0->en-core-web-md==3.6.0) (2.1.3)\n",
            "Installing collected packages: en-core-web-md\n",
            "Successfully installed en-core-web-md-3.6.0\n",
            "\u001b[38;5;2m✔ Download and installation successful\u001b[0m\n",
            "You can now load the package via spacy.load('en_core_web_md')\n"
          ]
        }
      ]
    },
    {
      "cell_type": "code",
      "source": [
        "import numpy as np\n",
        "import matplotlib.pyplot as plt\n",
        "\n",
        "# Mock word vectors (normally these would be multi-dimensional, but for simplicity, we're using 2D vectors)\n",
        "# We will be covering these concepts in the upcomming lecture in more depth.\n",
        "# Here we will discuss only the overview of how words are represented numerically.\n",
        "word_vectors = np.array([\n",
        "    [1, 2],     # vector for 'king'\n",
        "    [1.1, 2.1], # vector for 'queen'\n",
        "    [2, 1],     # vector for 'man'\n",
        "    [2.1, 1.1], # vector for 'woman'\n",
        "    [3, 3],     # vector for 'apple'\n",
        "    [3.1, 3.1], # vector for 'orange'\n",
        "    [4, 2],     # vector for 'car'\n",
        "    [4.1, 2.1], # vector for 'truck'\n",
        "    [0.5, 0.5], # vector for 'dog'\n",
        "    [0.6, 0.4], # vector for 'cat'\n",
        "    [5, 1],     # vector for 'happy'\n",
        "    [5.1, 0.9], # vector for 'joyful'\n",
        "])\n",
        "\n",
        "# Corresponding words\n",
        "words = ['king', 'queen', 'man', 'woman', 'apple', 'orange', 'car', 'truck', 'dog', 'cat', 'happy', 'joyful']\n",
        "\n",
        "# Visualization\n",
        "plt.figure(figsize=(10, 8))\n",
        "for i, word in enumerate(words):\n",
        "    plt.scatter(word_vectors[i, 0], word_vectors[i, 1])\n",
        "    plt.annotate(word, (word_vectors[i, 0], word_vectors[i, 1]), textcoords=\"offset points\", xytext=(0,10), ha='center')\n",
        "\n",
        "plt.xlabel('Dimension 1')\n",
        "plt.ylabel('Dimension 2')\n",
        "plt.title('Word Embeddings Visualization')\n",
        "plt.grid(True)\n",
        "plt.show()"
      ],
      "metadata": {
        "colab": {
          "base_uri": "https://localhost:8080/",
          "height": 718
        },
        "id": "Ii3oyXKaOa2r",
        "outputId": "3f27e297-a0d7-49ad-a265-15b1773abd07"
      },
      "execution_count": null,
      "outputs": [
        {
          "output_type": "display_data",
          "data": {
            "text/plain": [
              "<Figure size 1000x800 with 1 Axes>"
            ],
            "image/png": "[encoded data removed]"
          },
          "metadata": {}
        }
      ]
    },
    {
      "cell_type": "markdown",
      "source": [
        "# 2.6 Python Libraries for Text Preprocessing - POS and NER (NLTK, Spacy)"
      ],
      "metadata": {
        "id": "6ojq74PylD4N"
      }
    },
    {
      "cell_type": "markdown",
      "source": [
        "### NLTK and SpaCy in Natural Language Processing (NLP)\n",
        "\n",
        "Natural Language Processing (NLP) in Python is often synonymous with two powerful libraries: NLTK (Natural Language Toolkit) and SpaCy. Both are widely used for various NLP tasks and have their unique features and applications.\n",
        "\n",
        "#### NLTK (Natural Language Toolkit)\n",
        "- **Overview:** NLTK is one of the oldest and most commonly used Python libraries for NLP. It provides easy-to-use interfaces to over 50 corpora and lexical resources, along with a suite of text processing libraries for classification, tokenization, stemming, tagging, parsing, and semantic reasoning.\n",
        "- **Features:**\n",
        "  - Comprehensive collection of NLP libraries.\n",
        "  - Access to various textual corpora.\n",
        "  - Supports experimental and educational purposes.\n",
        "- **Common Uses:** It's particularly suited for prototyping and building research systems.\n",
        "- **Installation:** `pip install nltk`\n",
        "\n",
        "#### SpaCy\n",
        "- **Overview:** SpaCy is a relatively newer library compared to NLTK, but it has gained immense popularity due to its ease of use and speed. SpaCy focuses on providing software for production usage.\n",
        "- **Features:**\n",
        "  - Industrial-strength Natural Language Processing.\n",
        "  - Supports over 60 languages.\n",
        "  - Pre-trained word vectors.\n",
        "  - State-of-the-art speed and accuracy.\n",
        "- **Common Uses:** SpaCy is designed for real-world, practical applications and is often used in business environments.\n",
        "- **Installation:** `pip install spacy`\n",
        "\n",
        "#### Key Differences:\n",
        "- **Focus:** NLTK is more research-oriented, while SpaCy is designed with production in mind.\n",
        "- **Performance:** SpaCy generally offers better performance and more modern algorithms compared to NLTK.\n",
        "- **Ease of Use:** SpaCy provides a more consistent and user-friendly API.\n",
        "\n",
        "#### Conclusion:\n",
        "Both NLTK and SpaCy have their strengths and are valuable assets in the NLP toolkit. The choice between them depends on the specific requirements of the task, such as the need for advanced processing capabilities, ease of use, or a rich set of features.\n"
      ],
      "metadata": {
        "id": "iRe7klPTqwb2"
      }
    },
    {
      "cell_type": "code",
      "source": [
        "!pip install nltk spacy\n",
        "!python -m spacy download en_core_web_sm\n",
        "nltk.download('averaged_perceptron_tagger')\n",
        "nltk.download('maxent_ne_chunker')\n",
        "nltk.download('words')"
      ],
      "metadata": {
        "colab": {
          "base_uri": "https://localhost:8080/"
        },
        "id": "NweqSowse_jy",
        "outputId": "27b407ef-ebe8-4279-f312-35cd6ac5bbdc"
      },
      "execution_count": null,
      "outputs": [
        {
          "output_type": "stream",
          "name": "stdout",
          "text": [
            "Requirement already satisfied: nltk in /usr/local/lib/python3.10/dist-packages (3.8.1)\n",
            "Requirement already satisfied: spacy in /usr/local/lib/python3.10/dist-packages (3.6.1)\n",
            "Requirement already satisfied: click in /usr/local/lib/python3.10/dist-packages (from nltk) (8.1.7)\n",
            "Requirement already satisfied: joblib in /usr/local/lib/python3.10/dist-packages (from nltk) (1.3.2)\n",
            "Requirement already satisfied: regex>=2021.8.3 in /usr/local/lib/python3.10/dist-packages (from nltk) (2023.6.3)\n",
            "Requirement already satisfied: tqdm in /usr/local/lib/python3.10/dist-packages (from nltk) (4.66.1)\n",
            "Requirement already satisfied: spacy-legacy<3.1.0,>=3.0.11 in /usr/local/lib/python3.10/dist-packages (from spacy) (3.0.12)\n",
            "Requirement already satisfied: spacy-loggers<2.0.0,>=1.0.0 in /usr/local/lib/python3.10/dist-packages (from spacy) (1.0.5)\n",
            "Requirement already satisfied: murmurhash<1.1.0,>=0.28.0 in /usr/local/lib/python3.10/dist-packages (from spacy) (1.0.10)\n",
            "Requirement already satisfied: cymem<2.1.0,>=2.0.2 in /usr/local/lib/python3.10/dist-packages (from spacy) (2.0.8)\n",
            "Requirement already satisfied: preshed<3.1.0,>=3.0.2 in /usr/local/lib/python3.10/dist-packages (from spacy) (3.0.9)\n",
            "Requirement already satisfied: thinc<8.2.0,>=8.1.8 in /usr/local/lib/python3.10/dist-packages (from spacy) (8.1.12)\n",
            "Requirement already satisfied: wasabi<1.2.0,>=0.9.1 in /usr/local/lib/python3.10/dist-packages (from spacy) (1.1.2)\n",
            "Requirement already satisfied: srsly<3.0.0,>=2.4.3 in /usr/local/lib/python3.10/dist-packages (from spacy) (2.4.8)\n",
            "Requirement already satisfied: catalogue<2.1.0,>=2.0.6 in /usr/local/lib/python3.10/dist-packages (from spacy) (2.0.10)\n",
            "Requirement already satisfied: typer<0.10.0,>=0.3.0 in /usr/local/lib/python3.10/dist-packages (from spacy) (0.9.0)\n",
            "Requirement already satisfied: pathy>=0.10.0 in /usr/local/lib/python3.10/dist-packages (from spacy) (0.11.0)\n",
            "Requirement already satisfied: smart-open<7.0.0,>=5.2.1 in /usr/local/lib/python3.10/dist-packages (from spacy) (6.4.0)\n",
            "Requirement already satisfied: numpy>=1.15.0 in /usr/local/lib/python3.10/dist-packages (from spacy) (1.23.5)\n",
            "Requirement already satisfied: requests<3.0.0,>=2.13.0 in /usr/local/lib/python3.10/dist-packages (from spacy) (2.31.0)\n",
            "Requirement already satisfied: pydantic!=1.8,!=1.8.1,<3.0.0,>=1.7.4 in /usr/local/lib/python3.10/dist-packages (from spacy) (1.10.13)\n",
            "Requirement already satisfied: jinja2 in /usr/local/lib/python3.10/dist-packages (from spacy) (3.1.3)\n",
            "Requirement already satisfied: setuptools in /usr/local/lib/python3.10/dist-packages (from spacy) (67.7.2)\n",
            "Requirement already satisfied: packaging>=20.0 in /usr/local/lib/python3.10/dist-packages (from spacy) (23.2)\n",
            "Requirement already satisfied: langcodes<4.0.0,>=3.2.0 in /usr/local/lib/python3.10/dist-packages (from spacy) (3.3.0)\n",
            "Requirement already satisfied: pathlib-abc==0.1.1 in /usr/local/lib/python3.10/dist-packages (from pathy>=0.10.0->spacy) (0.1.1)\n",
            "Requirement already satisfied: typing-extensions>=4.2.0 in /usr/local/lib/python3.10/dist-packages (from pydantic!=1.8,!=1.8.1,<3.0.0,>=1.7.4->spacy) (4.5.0)\n",
            "Requirement already satisfied: charset-normalizer<4,>=2 in /usr/local/lib/python3.10/dist-packages (from requests<3.0.0,>=2.13.0->spacy) (3.3.2)\n",
            "Requirement already satisfied: idna<4,>=2.5 in /usr/local/lib/python3.10/dist-packages (from requests<3.0.0,>=2.13.0->spacy) (3.6)\n",
            "Requirement already satisfied: urllib3<3,>=1.21.1 in /usr/local/lib/python3.10/dist-packages (from requests<3.0.0,>=2.13.0->spacy) (2.0.7)\n",
            "Requirement already satisfied: certifi>=2017.4.17 in /usr/local/lib/python3.10/dist-packages (from requests<3.0.0,>=2.13.0->spacy) (2023.11.17)\n",
            "Requirement already satisfied: blis<0.8.0,>=0.7.8 in /usr/local/lib/python3.10/dist-packages (from thinc<8.2.0,>=8.1.8->spacy) (0.7.11)\n",
            "Requirement already satisfied: confection<1.0.0,>=0.0.1 in /usr/local/lib/python3.10/dist-packages (from thinc<8.2.0,>=8.1.8->spacy) (0.1.4)\n",
            "Requirement already satisfied: MarkupSafe>=2.0 in /usr/local/lib/python3.10/dist-packages (from jinja2->spacy) (2.1.3)\n",
            "2024-01-20 02:07:28.789123: E external/local_xla/xla/stream_executor/cuda/cuda_dnn.cc:9261] Unable to register cuDNN factory: Attempting to register factory for plugin cuDNN when one has already been registered\n",
            "2024-01-20 02:07:28.789212: E external/local_xla/xla/stream_executor/cuda/cuda_fft.cc:607] Unable to register cuFFT factory: Attempting to register factory for plugin cuFFT when one has already been registered\n",
            "2024-01-20 02:07:28.791376: E external/local_xla/xla/stream_executor/cuda/cuda_blas.cc:1515] Unable to register cuBLAS factory: Attempting to register factory for plugin cuBLAS when one has already been registered\n",
            "2024-01-20 02:07:28.803671: I tensorflow/core/platform/cpu_feature_guard.cc:182] This TensorFlow binary is optimized to use available CPU instructions in performance-critical operations.\n",
            "To enable the following instructions: AVX2 FMA, in other operations, rebuild TensorFlow with the appropriate compiler flags.\n",
            "2024-01-20 02:07:30.844449: W tensorflow/compiler/tf2tensorrt/utils/py_utils.cc:38] TF-TRT Warning: Could not find TensorRT\n",
            "Collecting en-core-web-sm==3.6.0\n",
            "  Downloading https://github.com/explosion/spacy-models/releases/download/en_core_web_sm-3.6.0/en_core_web_sm-3.6.0-py3-none-any.whl (12.8 MB)\n",
            "\u001b[2K     \u001b[90m━━━━━━━━━━━━━━━━━━━━━━━━━━━━━━━━━━━━━━━━\u001b[0m \u001b[32m12.8/12.8 MB\u001b[0m \u001b[31m28.0 MB/s\u001b[0m eta \u001b[36m0:00:00\u001b[0m\n",
            "\u001b[?25hRequirement already satisfied: spacy<3.7.0,>=3.6.0 in /usr/local/lib/python3.10/dist-packages (from en-core-web-sm==3.6.0) (3.6.1)\n",
            "Requirement already satisfied: spacy-legacy<3.1.0,>=3.0.11 in /usr/local/lib/python3.10/dist-packages (from spacy<3.7.0,>=3.6.0->en-core-web-sm==3.6.0) (3.0.12)\n",
            "Requirement already satisfied: spacy-loggers<2.0.0,>=1.0.0 in /usr/local/lib/python3.10/dist-packages (from spacy<3.7.0,>=3.6.0->en-core-web-sm==3.6.0) (1.0.5)\n",
            "Requirement already satisfied: murmurhash<1.1.0,>=0.28.0 in /usr/local/lib/python3.10/dist-packages (from spacy<3.7.0,>=3.6.0->en-core-web-sm==3.6.0) (1.0.10)\n",
            "Requirement already satisfied: cymem<2.1.0,>=2.0.2 in /usr/local/lib/python3.10/dist-packages (from spacy<3.7.0,>=3.6.0->en-core-web-sm==3.6.0) (2.0.8)\n",
            "Requirement already satisfied: preshed<3.1.0,>=3.0.2 in /usr/local/lib/python3.10/dist-packages (from spacy<3.7.0,>=3.6.0->en-core-web-sm==3.6.0) (3.0.9)\n",
            "Requirement already satisfied: thinc<8.2.0,>=8.1.8 in /usr/local/lib/python3.10/dist-packages (from spacy<3.7.0,>=3.6.0->en-core-web-sm==3.6.0) (8.1.12)\n",
            "Requirement already satisfied: wasabi<1.2.0,>=0.9.1 in /usr/local/lib/python3.10/dist-packages (from spacy<3.7.0,>=3.6.0->en-core-web-sm==3.6.0) (1.1.2)\n",
            "Requirement already satisfied: srsly<3.0.0,>=2.4.3 in /usr/local/lib/python3.10/dist-packages (from spacy<3.7.0,>=3.6.0->en-core-web-sm==3.6.0) (2.4.8)\n",
            "Requirement already satisfied: catalogue<2.1.0,>=2.0.6 in /usr/local/lib/python3.10/dist-packages (from spacy<3.7.0,>=3.6.0->en-core-web-sm==3.6.0) (2.0.10)\n",
            "Requirement already satisfied: typer<0.10.0,>=0.3.0 in /usr/local/lib/python3.10/dist-packages (from spacy<3.7.0,>=3.6.0->en-core-web-sm==3.6.0) (0.9.0)\n",
            "Requirement already satisfied: pathy>=0.10.0 in /usr/local/lib/python3.10/dist-packages (from spacy<3.7.0,>=3.6.0->en-core-web-sm==3.6.0) (0.11.0)\n",
            "Requirement already satisfied: smart-open<7.0.0,>=5.2.1 in /usr/local/lib/python3.10/dist-packages (from spacy<3.7.0,>=3.6.0->en-core-web-sm==3.6.0) (6.4.0)\n",
            "Requirement already satisfied: tqdm<5.0.0,>=4.38.0 in /usr/local/lib/python3.10/dist-packages (from spacy<3.7.0,>=3.6.0->en-core-web-sm==3.6.0) (4.66.1)\n",
            "Requirement already satisfied: numpy>=1.15.0 in /usr/local/lib/python3.10/dist-packages (from spacy<3.7.0,>=3.6.0->en-core-web-sm==3.6.0) (1.23.5)\n",
            "Requirement already satisfied: requests<3.0.0,>=2.13.0 in /usr/local/lib/python3.10/dist-packages (from spacy<3.7.0,>=3.6.0->en-core-web-sm==3.6.0) (2.31.0)\n",
            "Requirement already satisfied: pydantic!=1.8,!=1.8.1,<3.0.0,>=1.7.4 in /usr/local/lib/python3.10/dist-packages (from spacy<3.7.0,>=3.6.0->en-core-web-sm==3.6.0) (1.10.13)\n",
            "Requirement already satisfied: jinja2 in /usr/local/lib/python3.10/dist-packages (from spacy<3.7.0,>=3.6.0->en-core-web-sm==3.6.0) (3.1.3)\n",
            "Requirement already satisfied: setuptools in /usr/local/lib/python3.10/dist-packages (from spacy<3.7.0,>=3.6.0->en-core-web-sm==3.6.0) (67.7.2)\n",
            "Requirement already satisfied: packaging>=20.0 in /usr/local/lib/python3.10/dist-packages (from spacy<3.7.0,>=3.6.0->en-core-web-sm==3.6.0) (23.2)\n",
            "Requirement already satisfied: langcodes<4.0.0,>=3.2.0 in /usr/local/lib/python3.10/dist-packages (from spacy<3.7.0,>=3.6.0->en-core-web-sm==3.6.0) (3.3.0)\n",
            "Requirement already satisfied: pathlib-abc==0.1.1 in /usr/local/lib/python3.10/dist-packages (from pathy>=0.10.0->spacy<3.7.0,>=3.6.0->en-core-web-sm==3.6.0) (0.1.1)\n",
            "Requirement already satisfied: typing-extensions>=4.2.0 in /usr/local/lib/python3.10/dist-packages (from pydantic!=1.8,!=1.8.1,<3.0.0,>=1.7.4->spacy<3.7.0,>=3.6.0->en-core-web-sm==3.6.0) (4.5.0)\n",
            "Requirement already satisfied: charset-normalizer<4,>=2 in /usr/local/lib/python3.10/dist-packages (from requests<3.0.0,>=2.13.0->spacy<3.7.0,>=3.6.0->en-core-web-sm==3.6.0) (3.3.2)\n",
            "Requirement already satisfied: idna<4,>=2.5 in /usr/local/lib/python3.10/dist-packages (from requests<3.0.0,>=2.13.0->spacy<3.7.0,>=3.6.0->en-core-web-sm==3.6.0) (3.6)\n",
            "Requirement already satisfied: urllib3<3,>=1.21.1 in /usr/local/lib/python3.10/dist-packages (from requests<3.0.0,>=2.13.0->spacy<3.7.0,>=3.6.0->en-core-web-sm==3.6.0) (2.0.7)\n",
            "Requirement already satisfied: certifi>=2017.4.17 in /usr/local/lib/python3.10/dist-packages (from requests<3.0.0,>=2.13.0->spacy<3.7.0,>=3.6.0->en-core-web-sm==3.6.0) (2023.11.17)\n",
            "Requirement already satisfied: blis<0.8.0,>=0.7.8 in /usr/local/lib/python3.10/dist-packages (from thinc<8.2.0,>=8.1.8->spacy<3.7.0,>=3.6.0->en-core-web-sm==3.6.0) (0.7.11)\n",
            "Requirement already satisfied: confection<1.0.0,>=0.0.1 in /usr/local/lib/python3.10/dist-packages (from thinc<8.2.0,>=8.1.8->spacy<3.7.0,>=3.6.0->en-core-web-sm==3.6.0) (0.1.4)\n",
            "Requirement already satisfied: click<9.0.0,>=7.1.1 in /usr/local/lib/python3.10/dist-packages (from typer<0.10.0,>=0.3.0->spacy<3.7.0,>=3.6.0->en-core-web-sm==3.6.0) (8.1.7)\n",
            "Requirement already satisfied: MarkupSafe>=2.0 in /usr/local/lib/python3.10/dist-packages (from jinja2->spacy<3.7.0,>=3.6.0->en-core-web-sm==3.6.0) (2.1.3)\n",
            "\u001b[38;5;2m✔ Download and installation successful\u001b[0m\n",
            "You can now load the package via spacy.load('en_core_web_sm')\n"
          ]
        },
        {
          "output_type": "stream",
          "name": "stderr",
          "text": [
            "[nltk_data] Downloading package averaged_perceptron_tagger to\n",
            "[nltk_data]     /root/nltk_data...\n",
            "[nltk_data]   Unzipping taggers/averaged_perceptron_tagger.zip.\n",
            "[nltk_data] Downloading package maxent_ne_chunker to\n",
            "[nltk_data]     /root/nltk_data...\n",
            "[nltk_data]   Unzipping chunkers/maxent_ne_chunker.zip.\n",
            "[nltk_data] Downloading package words to /root/nltk_data...\n",
            "[nltk_data]   Unzipping corpora/words.zip.\n"
          ]
        },
        {
          "output_type": "execute_result",
          "data": {
            "text/plain": [
              "True"
            ]
          },
          "metadata": {},
          "execution_count": 22
        }
      ]
    },
    {
      "cell_type": "code",
      "source": [
        "import nltk\n",
        "import spacy\n",
        "\n",
        "# Initialize Spacy's model\n",
        "nlp_spacy = spacy.load('en_core_web_sm')\n",
        "\n",
        "# Sample text for demonstration\n",
        "sample_text = \"Apple is looking at buying U.K. startup for $1 billion\"\n",
        "\n",
        "# NLTK for POS Tagging and NER\n",
        "tokens_nltk = nltk.word_tokenize(sample_text)\n",
        "pos_tags_nltk = nltk.pos_tag(tokens_nltk)\n",
        "print(\"NLTK POS Tags:\", pos_tags_nltk)\n",
        "\n",
        "ne_tree = nltk.ne_chunk(pos_tags_nltk)\n",
        "print(\"NLTK Named Entities:\", ne_tree)\n",
        "\n",
        "# Spacy for POS Tagging, NER and Dependency Parsing\n",
        "doc_spacy = nlp_spacy(sample_text)\n",
        "pos_tags_spacy = [(token.text, token.pos_) for token in doc_spacy]\n",
        "print(\"\\nSpacy POS Tags:\", pos_tags_spacy)\n",
        "\n",
        "ner_spacy = [(ent.text, ent.label_) for ent in doc_spacy.ents]\n",
        "print(\"Spacy Named Entities:\", ner_spacy)\n",
        "\n",
        "dep_parse_spacy = [(token.text, token.dep_) for token in doc_spacy]\n",
        "print(\"Spacy Dependency Parsing:\", dep_parse_spacy)\n"
      ],
      "metadata": {
        "colab": {
          "base_uri": "https://localhost:8080/"
        },
        "id": "P5Qt4HV3e_mM",
        "outputId": "7d8b57ca-fa2d-4cc5-c9db-6f208722d626"
      },
      "execution_count": null,
      "outputs": [
        {
          "output_type": "stream",
          "name": "stdout",
          "text": [
            "NLTK POS Tags: [('Apple', 'NNP'), ('is', 'VBZ'), ('looking', 'VBG'), ('at', 'IN'), ('buying', 'VBG'), ('U.K.', 'NNP'), ('startup', 'NN'), ('for', 'IN'), ('$', '$'), ('1', 'CD'), ('billion', 'CD')]\n",
            "NLTK Named Entities: (S\n",
            "  (GPE Apple/NNP)\n",
            "  is/VBZ\n",
            "  looking/VBG\n",
            "  at/IN\n",
            "  buying/VBG\n",
            "  U.K./NNP\n",
            "  startup/NN\n",
            "  for/IN\n",
            "  $/$\n",
            "  1/CD\n",
            "  billion/CD)\n",
            "\n",
            "Spacy POS Tags: [('Apple', 'PROPN'), ('is', 'AUX'), ('looking', 'VERB'), ('at', 'ADP'), ('buying', 'VERB'), ('U.K.', 'PROPN'), ('startup', 'NOUN'), ('for', 'ADP'), ('$', 'SYM'), ('1', 'NUM'), ('billion', 'NUM')]\n",
            "Spacy Named Entities: [('Apple', 'ORG'), ('U.K.', 'GPE'), ('$1 billion', 'MONEY')]\n",
            "Spacy Dependency Parsing: [('Apple', 'nsubj'), ('is', 'aux'), ('looking', 'ROOT'), ('at', 'prep'), ('buying', 'pcomp'), ('U.K.', 'dobj'), ('startup', 'dep'), ('for', 'prep'), ('$', 'quantmod'), ('1', 'compound'), ('billion', 'pobj')]\n"
          ]
        }
      ]
    },
    {
      "cell_type": "markdown",
      "source": [
        "### Part-of-Speech Tags in NLTK's `pos_tag` Function\n",
        "\n",
        "The `nltk.pos_tag` function in NLTK is used for part-of-speech tagging, labeling each word with its part of speech based on the Penn Treebank tagset. Below are some of the common tags and their meanings:\n",
        "\n",
        "#### Nouns\n",
        "- `NN`: Singular noun (e.g., 'dog', 'book')\n",
        "- `NNS`: Plural noun (e.g., 'dogs', 'books')\n",
        "- `NNP`: Singular proper noun (e.g., 'Alice', 'London')\n",
        "- `NNPS`: Plural proper noun (e.g., 'Alices', 'Americas')\n",
        "\n",
        "#### Verbs\n",
        "- `VB`: Base form verb (e.g., 'be', 'have')\n",
        "- `VBD`: Past tense verb (e.g., 'was', 'had')\n",
        "- `VBG`: Gerund or present participle verb (e.g., 'running', 'thinking')\n",
        "- `VBN`: Past participle verb (e.g., 'run', 'thought')\n",
        "- `VBP`: Non-3rd person singular present verb (e.g., 'do', 'have')\n",
        "- `VBZ`: 3rd person singular present verb (e.g., 'does', 'has')\n",
        "\n",
        "#### Adjectives\n",
        "- `JJ`: Adjective (e.g., 'big', 'happy')\n",
        "- `JJR`: Comparative adjective (e.g., 'bigger', 'happier')\n",
        "- `JJS`: Superlative adjective (e.g., 'biggest', 'happiest')\n",
        "\n",
        "#### Adverbs\n",
        "- `RB`: Adverb (e.g., 'quickly', 'slowly')\n",
        "- `RBR`: Comparative adverb (e.g., 'faster', 'higher')\n",
        "- `RBS`: Superlative adverb (e.g., 'fastest', 'highest')\n",
        "\n",
        "#### Pronouns\n",
        "- `PRP`: Personal pronoun (e.g., 'I', 'she')\n",
        "- `PRP$`: Possessive pronoun (e.g., 'my', 'her')\n",
        "\n",
        "#### Determiners\n",
        "- `DT`: Determiner (e.g., 'the', 'a')\n",
        "\n",
        "#### Conjunctions\n",
        "- `CC`: Coordinating conjunction (e.g., 'and', 'but')\n",
        "\n",
        "#### Prepositions/Conjunctions\n",
        "- `IN`: Preposition or subordinating conjunction (e.g., 'in', 'of', 'like')\n",
        "\n",
        "#### Others\n",
        "- `CD`: Cardinal number (e.g., 'one', 'two')\n",
        "- `EX`: Existential 'there' (e.g., 'There is')\n",
        "- `MD`: Modal (e.g., 'will', 'can')\n",
        "- `WDT`: Wh-determiner (e.g., 'which', 'that')\n",
        "- `WP`: Wh-pronoun (e.g., 'who', 'what')\n",
        "- `WRB`: Wh-adverb (e.g., 'where', 'when')\n"
      ],
      "metadata": {
        "id": "1AtapkH_YLH9"
      }
    },
    {
      "cell_type": "markdown",
      "source": [
        "### Named Entity Recognition Categories in NLTK's `ne_chunk` Function\n",
        "\n",
        "The `nltk.ne_chunk` function is used in the Natural Language Toolkit (NLTK) for named entity recognition (NER). It identifies named entities in a text and classifies them into predefined categories. Below are some of the common named entity categories recognized by this function:\n",
        "\n",
        "#### Entity Types\n",
        "- `ORGANIZATION`: Organizations, companies, institutions, etc.\n",
        "- `PERSON`: Names of individuals.\n",
        "- `LOCATION`: Names of locations, like mountains, rivers, etc.\n",
        "- `DATE`: Dates, including full dates, parts of dates, and named days.\n",
        "- `TIME`: Times of the day.\n",
        "- `MONEY`: Monetary values, including units.\n",
        "- `PERCENT`: Percentages.\n",
        "- `FACILITY`: Buildings, airports, highways, bridges, etc.\n",
        "- `GPE` (Geo-Political Entity): Countries, cities, states.\n",
        "\n",
        "#### Usage\n",
        "- The `ne_chunk` function takes POS-tagged input and returns a tree structure with named entities.\n",
        "- Named entities are recognized based on context and POS tags.\n",
        "\n"
      ],
      "metadata": {
        "id": "kUxrvasQYubW"
      }
    },
    {
      "cell_type": "markdown",
      "source": [
        "### Part-of-Speech Tags in spaCy\n",
        "\n",
        "In spaCy, an advanced natural language processing library, the `token.pos_` attribute is used to denote the part-of-speech (POS) tag of a token (word). These tags follow the Universal Dependencies scheme, a framework used for consistent annotation across different languages. Below are some of the common POS tags in spaCy:\n",
        "\n",
        "#### Common POS Tags\n",
        "- `NOUN`: Nouns, typically denoting people, places, things, or ideas.\n",
        "- `VERB`: Verbs, denoting actions or states.\n",
        "- `ADJ`: Adjectives, describing or modifying nouns.\n",
        "- `ADV`: Adverbs, modifying verbs, adjectives, or other adverbs.\n",
        "- `PRON`: Pronouns, replacing nouns.\n",
        "- `DET`: Determiners, modifying nouns (e.g., 'the', 'a', 'some').\n",
        "- `ADP`: Adpositions, typically prepositions and postpositions.\n",
        "- `NUM`: Numerals, representing numbers.\n",
        "- `CONJ`: Conjunctions, connecting words, phrases, clauses, or sentences.\n",
        "- `PART`: Particles, a diverse class of words that don't fit into other categories but modify other words (e.g., 'not' in negations).\n",
        "- `INTJ`: Interjections, expressing emotions or reactions.\n",
        "- `PROPN`: Proper nouns, naming specific entities.\n",
        "- `SYM`: Symbols, representing objects or concepts without using words.\n"
      ],
      "metadata": {
        "id": "fMAwpGcEZTiI"
      }
    },
    {
      "cell_type": "markdown",
      "source": [
        "### Named Entity Recognition in spaCy\n",
        "\n",
        "spaCy, an advanced NLP library, includes a robust Named Entity Recognition (NER) system. The NER in spaCy is capable of identifying various types of named entities in text, and assigning labels to them. These entities are pre-defined categories that represent real-world objects like people, places, organizations, etc. Below is an overview of the common entity types recognized by spaCy:\n",
        "\n",
        "#### Common Entity Types\n",
        "- `PERSON`: People, including fictional.\n",
        "- `NORP`: Nationalities, religious or political groups.\n",
        "- `FAC`: Facilities, like buildings, airports, highways, bridges.\n",
        "- `ORG`: Organizations, including companies, agencies, institutions.\n",
        "- `GPE`: Geo-political entities, like countries, cities, states.\n",
        "- `LOC`: Non-GPE locations, mountain ranges, bodies of water.\n",
        "- `PRODUCT`: Objects, vehicles, foods, etc. (Not services.)\n",
        "- `EVENT`: Named events, like battles, wars, sports events, etc.\n",
        "- `WORK_OF_ART`: Titles of books, songs, etc.\n",
        "- `LAW`: Named documents made into laws.\n",
        "- `LANGUAGE`: Any named language.\n",
        "- `DATE`: Absolute or relative dates or periods.\n",
        "- `TIME`: Times smaller than a day.\n",
        "- `PERCENT`: Percentage, including \"%\".\n",
        "- `MONEY`: Monetary values, including unit.\n",
        "- `QUANTITY`: Measurements, as of weight or distance.\n",
        "- `ORDINAL`: \"first\", \"second\", etc.\n",
        "- `CARDINAL`: Numerals that do not fall under another type.\n"
      ],
      "metadata": {
        "id": "sIX1u6xXZl7H"
      }
    }
  ]
}